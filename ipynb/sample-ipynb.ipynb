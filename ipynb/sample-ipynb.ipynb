{
 "cells": [
  {
   "cell_type": "code",
   "execution_count": null,
   "metadata": {},
   "outputs": [],
   "source": [
    "title = \"ipynbでZennの記事を書こう\"\n",
    "emoji = \"😸\"\n",
    "text_type = \"idea\"\n",
    "topics = [\"Zenn\",\"JupyterNotebook\"]\n",
    "published = True"
   ]
  },
  {
   "cell_type": "markdown",
   "metadata": {},
   "source": [
    "この記事は、Notebookを使用して書いています。\n",
    "\n",
    ":::message\n",
    "元になっているipynbは\n",
    "https://github.com/fereria/zenn_ipynb/blob/master/ipynb/sample-ipynb.ipynb\n",
    "こちらで、ipynbをGitにPushすると、GithubActionsが実行されて\n",
    "自動でmarkdownに変換→mdをpushしています。\n",
    ":::\n",
    "\n",
    "## HeaderFormatterの書き方\n",
    "\n",
    "![](https://gyazo.com/3e428097b74fc40bc7877c5f37b0a6af.png)\n",
    "\n",
    "Markdownで書いてもよいですが、NotebookらしくPythonで記述できるようにしました。"
   ]
  },
  {
   "source": [
    "```python\n",
    "# -*- coding: utf-8 -*-\n",
    "\n",
    "import glob\n",
    "import os.path\n",
    "import os\n",
    "import codecs\n",
    "\n",
    "import nbconvert\n",
    "import nbformat\n",
    "\n",
    "os.makedirs('articles', exist_ok=True)\n",
    "\n",
    "\n",
    "for ipynb in glob.glob(\"./ipynb/*.ipynb\"):\n",
    "\n",
    "    with codecs.open(ipynb, 'r', 'utf-8') as f:\n",
    "        lines = f.readlines()\n",
    "    f = nbformat.reads(\"\".join(lines), as_version=4)\n",
    "    cell = f['cells'].pop(0)\n",
    "    exec(cell['source'])\n",
    "    header = [\"---\",\n",
    "              f'title: \"{title}\"',\n",
    "              f'emoji: \"{emoji}\"',\n",
    "              f'type: \"{text_type}\"',\n",
    "              \"topics: \" + \"[\" + \",\".join([f\"\\\"{x}\\\"\" for x in topics]) + \"]\",\n",
    "              \"published: \" + (\"true\" if published else \"false\"),\n",
    "              \"---\"]\n",
    "\n",
    "    exporter = nbconvert.TemplateExporter(template_file=\"template/markdown.tpl\")\n",
    "    (body, resources) = exporter.from_notebook_node(f)\n",
    "\n",
    "    with codecs.open(f'articles/{os.path.splitext(os.path.basename(ipynb))[0]}.md', 'w', 'utf-8') as f:\n",
    "        f.write(\"\\n\".join(header) + \"\\n\" + body)\n",
    "```"
   ],
   "cell_type": "markdown",
   "metadata": {}
  },
  {
   "cell_type": "markdown",
   "metadata": {},
   "source": [
    "ipynbからの変換は、コマンドラインではなくPythonスクリプトを使用します。\n",
    "１セル目はFormatterであるとして、CellをPopして\n",
    "その内容をHeaderとして使用します。\n",
    "\n",
    "あとは、nbconvertのTemplateExporterを使用すれば markdownにすることができます。"
   ]
  },
  {
   "cell_type": "code",
   "execution_count": 4,
   "metadata": {},
   "outputs": [
    {
     "output_type": "stream",
     "name": "stdout",
     "text": [
      "Hello World!!!\nhoge hoge hoge\n"
     ]
    }
   ],
   "source": [
    "print(\"Hello World!!!\")\n",
    "print(\"hoge hoge hoge\")"
   ]
  },
  {
   "cell_type": "markdown",
   "metadata": {},
   "source": [
    "Pythonの実行結果を表示した例。\n",
    "Notebookを使用するメリットとして、このようにコマンドをその場で実行し\n",
    "その実行結果を残せることがあります。\n",
    "\n",
    "テストしつつ、そのまま記事になるのはとても良さそうです。"
   ]
  },
  {
   "cell_type": "markdown",
   "metadata": {},
   "source": [
    "記事は、VSCodeで書くこともできますが、JupyterLabで書くこともできます。\n",
    "\n",
    "![](https://gyazo.com/698a75b8de7a9bde36add7558534515a.png)\n",
    "\n",
    "JupyterLabで書いている場合の参考例。\n",
    "こちらも問題なく記事を書くことができます。\n",
    "\n",
    "![](https://gyazo.com/0a7214a933a81196a28025e3aef17cc2.png)\n",
    "\n",
    "JupyterLabの環境は、Dockerコンテナを使用して構築されています。\n",
    "このコンテナは、GithubActionsを使用して記事を反映する際に使用するものと同じになります。\n",
    "\n",
    "https://github.com/fereria/zenn_ipynb/tree/master/docker\n",
    "\n",
    "```\n",
    "docker-compose -f \"docker\\docker-compose.yml\" up -d --build\n",
    "```\n",
    "docker-compose を使用すれば、USD入りの執筆環境JupyterNotebookが起動して、\n",
    "http://localhost:8888\n",
    "で接続することができます。"
   ]
  },
  {
   "cell_type": "markdown",
   "metadata": {},
   "source": [
    "## まとめ\n",
    "\n",
    "通常の記事であれば、VSCodeでMarkdownを使用して書くほうが楽ですが、\n",
    "スクリプトをごりごり検証しながら記事を書くような場合は、Notebook上で記事を作成できるのは\n",
    "とてもメリットがあります。\n",
    "\n",
    "しばらくは色々検証して、より書きやすい環境にアップデートしていければなとおもいます。\n",
    "\n",
    "https://github.com/fereria/zenn_ipynb\n",
    "公開用のGithubはこちら。"
   ]
  }
 ],
 "metadata": {
  "kernelspec": {
   "name": "python377jvsc74a57bd090ad37beec7e816fa6224594e71540722bf31854ba11f3943a77de50e81485ba",
   "display_name": "Python 3.7.7 64-bit"
  },
  "language_info": {
   "codemirror_mode": {
    "name": "ipython",
    "version": 3
   },
   "file_extension": ".py",
   "mimetype": "text/x-python",
   "name": "python",
   "nbconvert_exporter": "python",
   "pygments_lexer": "ipython3",
   "version": "3.7.7"
  },
  "metadata": {
   "interpreter": {
    "hash": "63fd5069d213b44bf678585dea6b12cceca9941eaf7f819626cde1f2670de90d"
   }
  }
 },
 "nbformat": 4,
 "nbformat_minor": 4
}