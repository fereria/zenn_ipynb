{
 "cells": [
  {
   "cell_type": "code",
   "execution_count": null,
   "metadata": {},
   "outputs": [],
   "source": [
    "title = \"ipynbでZennの記事を書こう\"\n",
    "emoji = \"😸\"\n",
    "text_type = \"idea\"\n",
    "topics = [\"Zenn\",\"JupyterNotebook\"]\n",
    "published = False"
   ]
  },
  {
   "cell_type": "markdown",
   "metadata": {},
   "source": [
    "Zennで記事を書くときに、Pythonのコードを使う場合は、  \n",
    "普通に記事を書くよりも、Notebookをそのまま公開したいときなんかもある...と思ったので、  \n",
    "GithubActionの勉強を兼ねて、ipynbをPushすることで、Zennの記事を投稿できるようにしてみる。  \n",
    "  \n",
    "以下のコードは、以前書いたもの。  "
   ]
  },
  {
   "source": [
    "まず、モジュールをロードします。"
   ],
   "cell_type": "markdown",
   "metadata": {}
  },
  {
   "cell_type": "code",
   "execution_count": 2,
   "metadata": {},
   "outputs": [],
   "source": [
    "from pxr import Usd,Sdf"
   ]
  },
  {
   "cell_type": "code",
   "execution_count": 3,
   "metadata": {},
   "outputs": [],
   "source": [
    "ROOT_PATH = \"d:/work/py37/USD/clip/\""
   ]
  },
  {
   "source": [
    "次にValueClip用のレイヤーをロードします。  "
   ],
   "cell_type": "markdown",
   "metadata": {}
  },
  {
   "cell_type": "code",
   "execution_count": 4,
   "metadata": {},
   "outputs": [
    {
     "output_type": "stream",
     "name": "stdout",
     "text": [
      "#usda 1.0\n\ndef \"ModelA\"\n{\n    double a.timeSamples = {\n        1: 1,\n    }\n    double b = 10\n}\n\n\n#usda 1.0\n\ndef \"ModelA\"\n{\n    double a.timeSamples = {\n        2: 100,\n    }\n}\n\n\n"
     ]
    }
   ],
   "source": [
    "# Clipを作る\n",
    "a = Sdf.Layer.FindOrOpen(ROOT_PATH + 'A/clip.1.usda')\n",
    "b = Sdf.Layer.FindOrOpen(ROOT_PATH + 'A/clip.2.usda')\n",
    "print(a.ExportToString())\n",
    "print(b.ExportToString())"
   ]
  },
  {
   "cell_type": "code",
   "execution_count": 5,
   "metadata": {},
   "outputs": [],
   "source": [
    "# ClipのレイヤーからManifestを作る。\n",
    "# Manifestは、ClipsAPIを使用するときに、クリップでアクセスアトリビュートの\n",
    "# インデックスを作るためのファイル。\n",
    "# ClipのうちTimeSampleを持つアトリビュートの定義を作る。\n",
    "manifest = Usd.ClipsAPI.GenerateClipManifestFromLayers([a,b],'/Model')"
   ]
  },
  {
   "cell_type": "code",
   "execution_count": 6,
   "metadata": {},
   "outputs": [
    {
     "output_type": "stream",
     "name": "stdout",
     "text": [
      "#usda 1.0\n\n\n"
     ]
    },
    {
     "output_type": "execute_result",
     "data": {
      "text/plain": [
       "True"
      ]
     },
     "metadata": {},
     "execution_count": 6
    }
   ],
   "source": [
    "# 結果は、アノニマスレイヤーとして取得できるので\n",
    "# このアノニマスレイヤーを保存して使用する。\n",
    "print(manifest.ExportToString())\n",
    "manifest.Export(ROOT_PATH + \"/manifest_sample.usda\")"
   ]
  },
  {
   "cell_type": "markdown",
   "metadata": {},
   "source": [
    "実行した結果は、GithubActionsでMarkdownに変換＆GitへPushされる。\n",
    "Push先を、Zennの対象フォルダにすることで、NotebookをZennの記事として投稿できる。\n",
    "\n",
    "公開用のブランチを分けることで、mainでPullしないと衝突する..みたいなことは防ぐ。"
   ]
  }
 ],
 "metadata": {
  "kernelspec": {
   "name": "python377jvsc74a57bd090ad37beec7e816fa6224594e71540722bf31854ba11f3943a77de50e81485ba",
   "display_name": "Python 3.7.7 64-bit"
  },
  "language_info": {
   "codemirror_mode": {
    "name": "ipython",
    "version": 3
   },
   "file_extension": ".py",
   "mimetype": "text/x-python",
   "name": "python",
   "nbconvert_exporter": "python",
   "pygments_lexer": "ipython3",
   "version": "3.7.7"
  },
  "metadata": {
   "interpreter": {
    "hash": "63fd5069d213b44bf678585dea6b12cceca9941eaf7f819626cde1f2670de90d"
   }
  }
 },
 "nbformat": 4,
 "nbformat_minor": 4
}