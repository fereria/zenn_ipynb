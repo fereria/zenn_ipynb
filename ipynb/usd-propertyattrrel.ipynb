{
 "cells": [
  {
   "cell_type": "code",
   "execution_count": 2,
   "source": [
    "title = \"Pythonで始めるUSDの基本(3) - Attribute/Property/Relationship\"\r\n",
    "emoji = \"😸\"\r\n",
    "text_type = \"tech\"\r\n",
    "topics = [\"USD\",\"Python\",\"3DCG\"]\r\n",
    "published = True"
   ],
   "outputs": [],
   "metadata": {}
  },
  {
   "cell_type": "markdown",
   "source": [
    "前回でUSDのPrimとスキーマについて見てきました。\r\n",
    "\r\n",
    "USDのPrimは、親子化可能なコンテナオブジェクトで  \r\n",
    "そのコンテナには「スキーマ」と呼ばれる型（役割）を指定することができます。  \r\n",
    "そして、このスキーマを指定することで、Primには様々なプロパティが追加され、  \r\n",
    "MeshやCamera、Lightのような3Dに必要とされるデータを表現することができます。  \r\n",
    "  \r\n",
    "というふうに説明しましたが、前回はさらっと書いただけの「プロパティ」について\r\n",
    "今回は詳しく説明していきたいと思います。  \r\n",
    "\r\n",
    "## Propertyとは\r\n",
    "\r\n",
    "まず、Primには、プロパティを指定することができます。  \r\n",
    "\r\n",
    "![](https://gyazo.com/dc73d9895b520f06fd6a69e13d2e42c8.png)\r\n",
    "\r\n",
    "この「プロパティ」は、大きく分けて2種類あります。  \r\n",
    "１つめがアトリビュート。  \r\n",
    "これは、intだったりstringだったりといった型を持った値です。"
   ],
   "metadata": {}
  },
  {
   "cell_type": "code",
   "execution_count": 19,
   "source": [
    "from pxr import Usd,Sdf,UsdGeom\r\n",
    "\r\n",
    "stage = Usd.Stage.CreateInMemory()\r\n",
    "layer = stage.GetRootLayer()\r\n",
    "\r\n",
    "cube = UsdGeom.Cube.Define(stage,'/sampleCube')\r\n",
    "prim = cube.GetPrim()\r\n",
    "# UsdAttributeオブジェクトを取得\r\n",
    "attr = prim.GetAttribute('size')\r\n",
    "print(attr)\r\n",
    "attr.Set(2) # 設定\r\n",
    "print(attr.Get()) # 取得"
   ],
   "outputs": [
    {
     "output_type": "stream",
     "name": "stdout",
     "text": [
      "Usd.Prim(</sampleCube>).GetAttribute('size')\n",
      "2.0\n"
     ]
    }
   ],
   "metadata": {}
  },
  {
   "cell_type": "markdown",
   "source": [
    "スキーマが指定されているPrimの場合、そのスキーマで指定されている\r\n",
    "取得・設定することができます。  \r\n",
    ":::message\r\n",
    "スキーマはPluginで作成されていて、  \r\n",
    "https://fereria.github.io/reincarnation_tech/11_Pipeline/10_USDTips/00_create_custom_schema/  \r\n",
    "schema.usda で、Attributeの定義がされています。  \r\n",
    "ここで指定されているAttributeが、Primにスキーマを指定した際に設定できます。  \r\n",
    ":::\r\n",
    "\r\n",
    "### CustomAttribute\r\n",
    "\r\n",
    "Attributeは、スキーマに定義されたものを使用する以外にCustomAttributeという形で  \r\n",
    "追加することができます。  "
   ],
   "metadata": {}
  },
  {
   "cell_type": "code",
   "execution_count": null,
   "source": [],
   "outputs": [],
   "metadata": {}
  },
  {
   "cell_type": "code",
   "execution_count": 13,
   "source": [
    "prim = stage.DefinePrim('/sample')\r\n",
    "\r\n",
    "attr = prim.CreateAttribute('sampleInt',Sdf.ValueTypeNames.Int)\r\n",
    "attrStr = prim.CreateAttribute('sampleStr',Sdf.ValueTypeNames.String)\r\n",
    "# Attribute取得\r\n",
    "attr.Set(100)\r\n",
    "attrStr.Set(\"Hello World\")\r\n",
    "# 結果表示\r\n",
    "print(attr.Get())\r\n",
    "print(stage.ExportToString())"
   ],
   "outputs": [
    {
     "output_type": "stream",
     "name": "stdout",
     "text": [
      "100\n",
      "#usda 1.0\n",
      "(\n",
      "    doc = \"\"\"Generated from Composed Stage of root layer \n",
      "\"\"\"\n",
      ")\n",
      "\n",
      "def \"sample\"\n",
      "{\n",
      "    custom int sampleInt = 100\n",
      "    custom string sampleStr = \"Hello World\"\n",
      "}\n",
      "\n",
      "\n"
     ]
    }
   ],
   "metadata": {}
  },
  {
   "cell_type": "markdown",
   "source": [
    "まず、なんのスキーマも持たない空のPrimを作成し、そのPrimに対してAttributeを追加しました。  \r\n",
    "USDのAttributeは、Sdf.ValueTypeNamesで指定した型のAttributeを作成することができます。  \r\n",
    "（Pythonで指定するばあいは[以前まとめたこのページ](https://fereria.github.io/reincarnation_tech/11_Pipeline/10_USDTips/01_usd_py_docs/#usdattributetype)参照）  \r\n",
    "↑のページをみるとわかりますが、USDのAttributreはあらゆる型に対応しているので、  \r\n",
    "必要に応じてAttributeを追加することで、様々な情報を持つことができます。  \r\n",
    "  \r\n",
    "USDでは、スキーマという形で決まったデータを扱うこともできますが、  \r\n",
    "それに＋して、CustomAttributeのように、自分で追加したい情報を自由に追加することができます。  \r\n",
    "また、スキーマなしのPrimに対して、Attributeを追加して  \r\n",
    "AssetInfo用のPrimを作る...、あるいはXMLのTagのような扱い方をすることもできます。    \r\n",
    "\r\n",
    "## Relationship\r\n",
    "\r\n",
    "もう一つがRelationshipです。  \r\n",
    "これは、別のPrimをリレーションでつなぐことができます。  \r\n"
   ],
   "metadata": {}
  },
  {
   "cell_type": "code",
   "execution_count": 23,
   "source": [
    "prim = stage.DefinePrim(\"/base\")\r\n",
    "# Relation先\r\n",
    "relPrim = stage.DefinePrim(\"/RelA\")\r\n",
    "relPrimB = stage.DefinePrim(\"/RelB\")\r\n",
    "# Relation作成 追加\r\n",
    "rel = prim.CreateRelationship(\"rel\")\r\n",
    "rel.AddTarget(relPrim.GetPath())\r\n",
    "rel.AddTarget(relPrimB.GetPath())\r\n",
    "# RelationでつながっているPrimを取得\r\n",
    "for path in rel.GetTargets():\r\n",
    "    print(stage.GetPrimAtPath(path))"
   ],
   "outputs": [
    {
     "output_type": "stream",
     "name": "stdout",
     "text": [
      "Usd.Prim(</RelA>)\n",
      "Usd.Prim(</RelB>)\n"
     ]
    }
   ],
   "metadata": {}
  },
  {
   "cell_type": "markdown",
   "source": [
    "Relationshipで、特定のPrimをつないだ例です。  \r\n",
    "\r\n",
    "![](https://gyazo.com/732c0f707c30faa9e0bd41d0d071f4a2.png)\r\n",
    "\r\n",
    "図に表すとこのようになっています。  \r\n",
    "例にあるとおり、Relationshipは、ある特定のPrimまでのSdfPathを設定・取得することができます。  \r\n",
    "これを利用することで、例えばあるSkelに対してのAnimationデータであったり  \r\n",
    "あるMeshに対してアサインされているMaterialであったりのような、  \r\n",
    "別のPrimへコネクションするような構造を作ることができます。"
   ],
   "metadata": {}
  },
  {
   "cell_type": "code",
   "execution_count": 27,
   "source": [
    "from pxr import UsdShade,Gf\r\n",
    "\r\n",
    "stage = Usd.Stage.CreateInMemory()\r\n",
    "rootLayer = stage.GetRootLayer()\r\n",
    "\r\n",
    "# Mesh作成\r\n",
    "sphere = UsdGeom.Sphere.Define(stage, '/AssetName/Geom/sphere')\r\n",
    "\r\n",
    "matPath = Sdf.Path(\"/AssetName/Looks/SampleMaterial\")\r\n",
    "mat = UsdShade.Material.Define(stage, matPath)\r\n",
    "shader = UsdShade.Shader.Define(stage, matPath.AppendChild('SampleShader'))\r\n",
    "shader.CreateIdAttr('UsdPreviewSurface')\r\n",
    "shader.CreateInput('diffuseColor', Sdf.ValueTypeNames.Color3f).Set(Gf.Vec3f(1,0,0))\r\n",
    "mat.CreateSurfaceOutput().ConnectToSource(shader.ConnectableAPI(), \"surface\")\r\n",
    "UsdShade.MaterialBindingAPI(sphere.GetPrim()).Bind(mat)\r\n",
    "print(stage.ExportToString())\r\n"
   ],
   "outputs": [
    {
     "output_type": "stream",
     "name": "stdout",
     "text": [
      "#usda 1.0\n",
      "(\n",
      "    doc = \"\"\"Generated from Composed Stage of root layer \n",
      "\"\"\"\n",
      ")\n",
      "\n",
      "def \"AssetName\"\n",
      "{\n",
      "    def \"Geom\"\n",
      "    {\n",
      "        def Sphere \"sphere\"\n",
      "        {\n",
      "            rel material:binding = </AssetName/Looks/SampleMaterial>\n",
      "        }\n",
      "    }\n",
      "\n",
      "    def \"Looks\"\n",
      "    {\n",
      "        def Material \"SampleMaterial\"\n",
      "        {\n",
      "            token outputs:surface.connect = </AssetName/Looks/SampleMaterial/SampleShader.outputs:surface>\n",
      "\n",
      "            def Shader \"SampleShader\"\n",
      "            {\n",
      "                uniform token info:id = \"UsdPreviewSurface\"\n",
      "                color3f inputs:diffuseColor = (1, 0, 0)\n",
      "                token outputs:surface\n",
      "            }\n",
      "        }\n",
      "    }\n",
      "}\n",
      "\n",
      "\n"
     ]
    }
   ],
   "metadata": {}
  },
  {
   "cell_type": "markdown",
   "source": [
    "例として、Materialをアサインした例の場合。  \r\n",
    "```rel material:binding = </AssetName/Looks/SampleMaterial>```\r\n",
    "MeshからMaterialまでのコネクションは rel material:binding となっているのがわかるかと思います。  \r\n",
    "これが、いわゆるRelationshipで、 = のあとのSdfPath /AssetName/Looks/SampleMaterial のPrimとRelationshipを  \r\n",
    "作ることで、マテリアルアサインをしています。  \r\n",
    "\r\n",
    "## まとめ\r\n",
    "\r\n",
    "初回のStage/Layer、前回のPrim/スキーマ、そして今回のProperty（Attribute/Relationship）で  \r\n",
    "Pythonを使用してUSDを操作する基本が見えてきたのではないかと思います。  \r\n",
    "\r\n",
    "![](https://gyazo.com/778837cc8d17b1cf901c3846be446273.png)\r\n",
    "\r\n",
    "Stage/Layer/Prim/Property をまとめるとこのような感じになります。  \r\n",
    "他にも色々要素はあるのですが、基本的な構造・関係性はあまり変わりませんので  \r\n",
    "これをおさえておくと、Mayaから出力したUSDをPythonで操作したり...といったことも  \r\n",
    "だいぶやりやすくなるのではと思います。\r\n"
   ],
   "metadata": {}
  },
  {
   "cell_type": "code",
   "execution_count": null,
   "source": [],
   "outputs": [],
   "metadata": {}
  }
 ],
 "metadata": {
  "orig_nbformat": 4,
  "language_info": {
   "name": "python",
   "version": "3.7.7",
   "mimetype": "text/x-python",
   "codemirror_mode": {
    "name": "ipython",
    "version": 3
   },
   "pygments_lexer": "ipython3",
   "nbconvert_exporter": "python",
   "file_extension": ".py"
  },
  "kernelspec": {
   "name": "python3",
   "display_name": "Python 3.7.7 64-bit"
  },
  "interpreter": {
   "hash": "90ad37beec7e816fa6224594e71540722bf31854ba11f3943a77de50e81485ba"
  }
 },
 "nbformat": 4,
 "nbformat_minor": 2
}