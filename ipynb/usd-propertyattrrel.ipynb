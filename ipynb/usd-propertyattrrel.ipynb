{
 "cells": [
  {
   "cell_type": "code",
   "execution_count": 2,
   "metadata": {},
   "outputs": [],
   "source": [
    "title = \"Pythonで始めるUSDの基本(3) - Attribute/Property/Relationship\"\n",
    "emoji = \"😸\"\n",
    "text_type = \"tech\"\n",
    "topics = [\"USD\",\"Python\",\"3DCG\"]\n",
    "published = False"
   ]
  },
  {
   "cell_type": "markdown",
   "metadata": {},
   "source": [
    "前回でUSDのPrimとスキーマについて見てきました。\n",
    "\n",
    "USDのPrimは、親子化可能なコンテナオブジェクトで  \n",
    "そのコンテナには「スキーマ」と呼ばれる型（役割）を指定することができます。  \n",
    "そして、このスキーマを指定することで、Primには様々なプロパティが追加され、  \n",
    "MeshやCamera、Lightのような3Dに必要とされるデータを表現することができます。  \n",
    "  \n",
    "というふうに説明しましたが、前回はさらっと書いただけの「プロパティ」について\n",
    "今回は詳しく説明していきたいと思います。  \n",
    "\n",
    "## Propertyとは\n",
    "\n",
    "まず、Primには、プロパティを指定することができます。  \n",
    "\n",
    "![](https://gyazo.com/dc73d9895b520f06fd6a69e13d2e42c8.png)\n",
    "\n",
    "この「プロパティ」は、大きく分けて2種類あります。  \n",
    "１つめがアトリビュート。  \n",
    "これは、intだったりstringだったりといった型を持った値です。"
   ]
  },
  {
   "cell_type": "code",
   "execution_count": 19,
   "metadata": {},
   "outputs": [
    {
     "name": "stdout",
     "output_type": "stream",
     "text": [
      "Usd.Prim(</sampleCube>).GetAttribute('size')\n",
      "2.0\n"
     ]
    }
   ],
   "source": [
    "from pxr import Usd,Sdf,UsdGeom\n",
    "\n",
    "stage = Usd.Stage.CreateInMemory()\n",
    "layer = stage.GetRootLayer()\n",
    "\n",
    "cube = UsdGeom.Cube.Define(stage,'/sampleCube')\n",
    "prim = cube.GetPrim()\n",
    "# UsdAttributeオブジェクトを取得\n",
    "attr = prim.GetAttribute('size')\n",
    "print(attr)\n",
    "attr.Set(2) # 設定\n",
    "print(attr.Get()) # 取得"
   ]
  },
  {
   "cell_type": "markdown",
   "metadata": {},
   "source": [
    "スキーマが指定されているPrimの場合、そのスキーマで指定されている\n",
    "取得・設定することができます。  \n",
    ":::message\n",
    "スキーマはPluginで作成されていて、  \n",
    "https://fereria.github.io/reincarnation_tech/11_Pipeline/10_USDTips/00_create_custom_schema/  \n",
    "schema.usda で、Attributeの定義がされています。  \n",
    "ここで指定されているAttributeが、Primにスキーマを指定した際に設定できます。  \n",
    ":::\n",
    "\n",
    "### CustomAttribute\n",
    "\n",
    "Attributeは、スキーマに定義されたものを使用する以外にCustomAttributeという形で  \n",
    "追加することができます。  "
   ]
  },
  {
   "cell_type": "code",
   "execution_count": null,
   "metadata": {},
   "outputs": [],
   "source": []
  },
  {
   "cell_type": "code",
   "execution_count": 13,
   "metadata": {},
   "outputs": [
    {
     "name": "stdout",
     "output_type": "stream",
     "text": [
      "100\n",
      "#usda 1.0\n",
      "(\n",
      "    doc = \"\"\"Generated from Composed Stage of root layer \n",
      "\"\"\"\n",
      ")\n",
      "\n",
      "def \"sample\"\n",
      "{\n",
      "    custom int sampleInt = 100\n",
      "    custom string sampleStr = \"Hello World\"\n",
      "}\n",
      "\n",
      "\n"
     ]
    }
   ],
   "source": [
    "prim = stage.DefinePrim('/sample')\n",
    "\n",
    "attr = prim.CreateAttribute('sampleInt',Sdf.ValueTypeNames.Int)\n",
    "attrStr = prim.CreateAttribute('sampleStr',Sdf.ValueTypeNames.String)\n",
    "# Attribute取得\n",
    "attr.Set(100)\n",
    "attrStr.Set(\"Hello World\")\n",
    "# 結果表示\n",
    "print(attr.Get())\n",
    "print(stage.ExportToString())"
   ]
  },
  {
   "cell_type": "markdown",
   "metadata": {},
   "source": [
    "まず、なんのスキーマも持たない空のPrimを作成し、そのPrimに対してAttributeを追加しました。  \n",
    "USDのAttributeは、Sdf.ValueTypeNamesで指定した型のAttributeを作成することができます。  \n",
    "（Pythonで指定するばあいは[以前まとめたこのページ](https://fereria.github.io/reincarnation_tech/11_Pipeline/10_USDTips/01_usd_py_docs/#usdattributetype)参照）  \n",
    "↑のページをみるとわかりますが、USDのAttributreはあらゆる型に対応しているので、  \n",
    "必要に応じてAttributeを追加することで、様々な情報を持つことができます。  \n",
    "  \n",
    "USDでは、スキーマという形で決まったデータを扱うこともできますが、  \n",
    "それに＋して、CustomAttributeのように、自分で追加したい情報を自由に追加することができます。  \n",
    "また、スキーマなしのPrimに対して、Attributeを追加して  \n",
    "AssetInfo用のPrimを作る...、あるいはXMLのTagのような扱い方をすることもできます。    \n",
    "\n",
    "## Relationship\n",
    "\n",
    "もう一つがRelationshipです。  \n",
    "これは、別のPrimをリレーションでつなぐことができます。  \n"
   ]
  },
  {
   "cell_type": "code",
   "execution_count": 23,
   "metadata": {},
   "outputs": [
    {
     "name": "stdout",
     "output_type": "stream",
     "text": [
      "Usd.Prim(</RelA>)\n",
      "Usd.Prim(</RelB>)\n"
     ]
    }
   ],
   "source": [
    "prim = stage.DefinePrim(\"/base\")\n",
    "# Relation先\n",
    "relPrim = stage.DefinePrim(\"/RelA\")\n",
    "relPrimB = stage.DefinePrim(\"/RelB\")\n",
    "# Relation作成 追加\n",
    "rel = prim.CreateRelationship(\"rel\")\n",
    "rel.AddTarget(relPrim.GetPath())\n",
    "rel.AddTarget(relPrimB.GetPath())\n",
    "# RelationでつながっているPrimを取得\n",
    "for path in rel.GetTargets():\n",
    "    print(stage.GetPrimAtPath(path))"
   ]
  },
  {
   "cell_type": "markdown",
   "metadata": {},
   "source": [
    "Relationshipで、特定のPrimをつないだ例です。  \n",
    "\n",
    "![](https://gyazo.com/732c0f707c30faa9e0bd41d0d071f4a2.png)\n",
    "\n",
    "図に表すとこのようになっています。  \n",
    "例にあるとおり、Relationshipは、ある特定のPrimまでのSdfPathを設定・取得することができます。  \n",
    "これを利用することで、例えばあるSkelに対してのAnimationデータであったり  \n",
    "あるMeshに対してアサインされているMaterialであったりのような、  \n",
    "別のPrimへコネクションするような構造を作ることができます。"
   ]
  },
  {
   "cell_type": "code",
   "execution_count": 27,
   "metadata": {},
   "outputs": [
    {
     "name": "stdout",
     "output_type": "stream",
     "text": [
      "#usda 1.0\n",
      "(\n",
      "    doc = \"\"\"Generated from Composed Stage of root layer \n",
      "\"\"\"\n",
      ")\n",
      "\n",
      "def \"AssetName\"\n",
      "{\n",
      "    def \"Geom\"\n",
      "    {\n",
      "        def Sphere \"sphere\"\n",
      "        {\n",
      "            rel material:binding = </AssetName/Looks/SampleMaterial>\n",
      "        }\n",
      "    }\n",
      "\n",
      "    def \"Looks\"\n",
      "    {\n",
      "        def Material \"SampleMaterial\"\n",
      "        {\n",
      "            token outputs:surface.connect = </AssetName/Looks/SampleMaterial/SampleShader.outputs:surface>\n",
      "\n",
      "            def Shader \"SampleShader\"\n",
      "            {\n",
      "                uniform token info:id = \"UsdPreviewSurface\"\n",
      "                color3f inputs:diffuseColor = (1, 0, 0)\n",
      "                token outputs:surface\n",
      "            }\n",
      "        }\n",
      "    }\n",
      "}\n",
      "\n",
      "\n"
     ]
    }
   ],
   "source": [
    "from pxr import UsdShade,Gf\n",
    "\n",
    "stage = Usd.Stage.CreateInMemory()\n",
    "rootLayer = stage.GetRootLayer()\n",
    "\n",
    "# Mesh作成\n",
    "sphere = UsdGeom.Sphere.Define(stage, '/AssetName/Geom/sphere')\n",
    "\n",
    "matPath = Sdf.Path(\"/AssetName/Looks/SampleMaterial\")\n",
    "mat = UsdShade.Material.Define(stage, matPath)\n",
    "shader = UsdShade.Shader.Define(stage, matPath.AppendChild('SampleShader'))\n",
    "shader.CreateIdAttr('UsdPreviewSurface')\n",
    "shader.CreateInput('diffuseColor', Sdf.ValueTypeNames.Color3f).Set(Gf.Vec3f(1,0,0))\n",
    "mat.CreateSurfaceOutput().ConnectToSource(shader.ConnectableAPI(), \"surface\")\n",
    "UsdShade.MaterialBindingAPI(sphere.GetPrim()).Bind(mat)\n",
    "print(stage.ExportToString())\n"
   ]
  },
  {
   "cell_type": "markdown",
   "metadata": {},
   "source": [
    "例として、Materialをアサインした例の場合。  \n",
    "```rel material:binding = </AssetName/Looks/SampleMaterial>```\n",
    "MeshからMaterialまでのコネクションは rel material:binding となっているのがわかるかと思います。  \n",
    "これが、いわゆるRelationshipで、 = のあとのSdfPath /AssetName/Looks/SampleMaterial のPrimとRelationshipを  \n",
    "作ることで、マテリアルアサインをしています。  \n",
    "\n",
    "## まとめ\n",
    "\n",
    "初回のStage/Layer、前回のPrim/スキーマ、そして今回のProperty（Attribute/Relationship）で  \n",
    "Pythonを使用してUSDを操作する基本が見えてきたのではないかと思います。  \n",
    "\n",
    "![](https://gyazo.com/778837cc8d17b1cf901c3846be446273.png)\n",
    "\n",
    "Stage/Layer/Prim/Property をまとめるとこのような感じになります。  \n",
    "他にも色々要素はあるのですが、基本的な構造・関係性はあまり変わりませんので  \n",
    "これをおさえておくと、Mayaから出力したUSDをPythonで操作したり...といったことも  \n",
    "だいぶやりやすくなるのではと思います。\n"
   ]
  }
 ],
 "metadata": {
  "interpreter": {
   "hash": "90ad37beec7e816fa6224594e71540722bf31854ba11f3943a77de50e81485ba"
  },
  "kernelspec": {
   "display_name": "Python 3.7.7 64-bit",
   "name": "python3"
  },
  "language_info": {
   "codemirror_mode": {
    "name": "ipython",
    "version": 3
   },
   "file_extension": ".py",
   "mimetype": "text/x-python",
   "name": "python",
   "nbconvert_exporter": "python",
   "pygments_lexer": "ipython3",
   "version": "3.7.7"
  },
  "orig_nbformat": 4
 },
 "nbformat": 4,
 "nbformat_minor": 2
}
