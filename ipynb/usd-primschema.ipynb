{
 "cells": [
  {
   "cell_type": "code",
   "execution_count": 81,
   "id": "aef2bd0e-286d-4a44-b40b-8d5adbe68eb8",
   "metadata": {},
   "outputs": [],
   "source": [
    "title = \"Pythonで始めるUSDの基本(2) - Primとスキーマ\"\n",
    "emoji = \"🦜\"\n",
    "text_type = \"tech\"\n",
    "topics = [\"USD\",\"Python\",\"3DCG\"]\n",
    "published = True"
   ]
  },
  {
   "cell_type": "markdown",
   "id": "2941d7e6-8dda-4d82-a15e-58928c30297a",
   "metadata": {},
   "source": [
    "前回のStage/Layer解説に続いて、第二回目はUsdPrimについて詳しく説明していきたいと思います。\n",
    "\n",
    "## Primとは\n",
    "\n",
    "Primとは、Mayaでいうところのノードにあたるもので、USDのデータを保持するコンテナオブジェクトです。  \n",
    "このPrimは、3Dのシーングラフを構成するのに必要なノードの情報をプロパティとして持つことができます。\n",
    "\n",
    "そしてそのPrimをステージ内に親子階層で持つことで、シーングラフを表現することができます。  \n",
    "\n",
    "### シンプルなPrimを定義する"
   ]
  },
  {
   "cell_type": "code",
   "execution_count": 52,
   "id": "a100eb47-e336-43a8-8702-d3db6b13bb29",
   "metadata": {},
   "outputs": [],
   "source": [
    "from pxr import Usd,UsdGeom,Sdf,UsdLux\n",
    "\n",
    "stage = Usd.Stage.CreateInMemory()\n",
    "layer = stage.GetRootLayer()"
   ]
  },
  {
   "cell_type": "code",
   "execution_count": 49,
   "id": "ed5d090b-ee29-4759-8803-c513e3f4064a",
   "metadata": {},
   "outputs": [
    {
     "name": "stdout",
     "output_type": "stream",
     "text": [
      "#usda 1.0\n",
      "(\n",
      "    doc = \"\"\"Generated from Composed Stage of root layer \n",
      "\"\"\"\n",
      ")\n",
      "\n",
      "def \"samplePrim\"\n",
      "{\n",
      "}\n",
      "\n",
      "\n"
     ]
    }
   ],
   "source": [
    "# シンプルなPrimを作る\n",
    "path = Sdf.Path(\"/samplePrim\")\n",
    "prim = stage.DefinePrim(path)\n",
    "\n",
    "print(stage.ExportToString())"
   ]
  },
  {
   "cell_type": "markdown",
   "id": "cff919e5-7b35-4c35-879f-d3dae988f252",
   "metadata": {},
   "source": [
    "まず、シンプルなPrimを作成します。  \n",
    "Primは、「SdfPath」と呼ばれるパスでその名前空間（ネームスペース）の位置を表します。  \n",
    "この場合は、 simplePrim がパスになります。  \n",
    "  \n",
    "![](https://gyazo.com/b8c00fac1318a3b232965cf27a2dab7d.png)\n",
    "\n",
    "図に表すとこのようになります。  \n",
    "この段階では、何も入っていない入れ物ができた段階です。  "
   ]
  },
  {
   "cell_type": "code",
   "execution_count": 50,
   "id": "bc64327f-0d75-4396-8959-f52916e1aced",
   "metadata": {},
   "outputs": [
    {
     "name": "stdout",
     "output_type": "stream",
     "text": [
      "[]\n",
      "\n"
     ]
    }
   ],
   "source": [
    "print(prim.GetAttributes())\n",
    "print(prim.GetTypeName())"
   ]
  },
  {
   "cell_type": "markdown",
   "id": "d4479ba1-28c9-4fdc-bfb9-45498560a157",
   "metadata": {},
   "source": [
    "そのため、このようにアトリビュートを取得しようとしたり、Primのタイプを取得しようとしても、  \n",
    "アトリビュートはなにもないし、そのPrimがどのような型なのか取得しようとしても  \n",
    "何も定義されていません。  "
   ]
  },
  {
   "cell_type": "markdown",
   "id": "8973cb73-a801-4b1a-b082-92a264cbb8ed",
   "metadata": {},
   "source": [
    "## スキーマ\n",
    "\n",
    "上の例のように DefinePrim で定義したPrimは  \n",
    "いわゆる「コンテナ」であり、このPrim自体には役割はありません。  \n",
    "このPrimに対して「役割」を与えるのが「スキーマ」です。  \n",
    "  \n",
    "例えば、Cubeを作成してみます。  \n",
    "作成するには、UsdGeomCubeスキーマを利用します。  "
   ]
  },
  {
   "cell_type": "code",
   "execution_count": 51,
   "id": "2deb8d6f-a2fd-48f6-972f-a507b9706a14",
   "metadata": {},
   "outputs": [
    {
     "name": "stdout",
     "output_type": "stream",
     "text": [
      "#usda 1.0\n",
      "(\n",
      "    doc = \"\"\"Generated from Composed Stage of root layer \n",
      "\"\"\"\n",
      ")\n",
      "\n",
      "def \"samplePrim\"\n",
      "{\n",
      "}\n",
      "\n",
      "def Cube \"sampleCube\"\n",
      "{\n",
      "}\n",
      "\n",
      "\n"
     ]
    }
   ],
   "source": [
    "# Cubeを作る\n",
    "cube = UsdGeom.Cube.Define(stage,'/sampleCube')\n",
    "# Cubeスキーマを適応したPrimを取得\n",
    "cubePrim = cube.GetPrim()\n",
    "print(stage.ExportToString())"
   ]
  },
  {
   "cell_type": "markdown",
   "id": "d3b768d0-4ea5-477d-98c0-2f41acd9e999",
   "metadata": {},
   "source": [
    "他のPrimと違い、 def の定義の右に Cube とついているのがわかります。  \n",
    "これが、このPrimに定義されているスキーマです。    \n",
    "  \n",
    "スキーマには、「Cube」や「Sphere」のようなプリミティブであったり  \n",
    "移動などをするためのXform、メッシュをあつかう Mesh、カメラのスキーマ等  \n",
    "3Dで扱うのに必要な様々な定義が用意されています。  \n",
    "Primにこのスキーマを適応することで、様々なシーングラフを構成します。  \n",
    "\n",
    "![](https://gyazo.com/27673cbde7bf2d4fcac5e7188049932a.png)  \n",
    " \n",
    " このusdをusdviewで確認すると、このようなCubeが表示されます。  \n",
    " これは、Cubeスキーマを適応した結果  \n",
    " このsampleCubePrimがCubeスキーマ（Cubeを表示する）という振る舞いをするようになった結果です。  "
   ]
  },
  {
   "cell_type": "code",
   "execution_count": 29,
   "id": "c8a05ed4-97fe-480e-9a3d-e86341a5cfa7",
   "metadata": {},
   "outputs": [
    {
     "name": "stdout",
     "output_type": "stream",
     "text": [
      "10.0\n"
     ]
    },
    {
     "data": {
      "text/plain": [
       "True"
      ]
     },
     "execution_count": 29,
     "metadata": {},
     "output_type": "execute_result"
    }
   ],
   "source": [
    "print(cube.GetSizeAttr().Get()) # Cubeの大きさを取得\n",
    "cube.GetSizeAttr().Set(10) # 大きさを変更する"
   ]
  },
  {
   "cell_type": "markdown",
   "id": "5b1f1200-3dfb-488f-bdd3-0e3832de94a9",
   "metadata": {},
   "source": [
    "このスキーマには、そのスキーマの「ふるまい」に必要になるプロパティ（アトリビュート・リレーション）と  \n",
    "扱うために必要な関数が定義されています。  \n",
    "たとえば、このCubeスキーマであれば [UsdGeomCube](https://graphics.pixar.com/usd/docs/api/class_usd_geom_cube.html) を確認すると、Cubeの大きさを指定するための  \n",
    "アトリビュートがあり、 GetSizeAttr で、Cubeの大きさを指定できるようになっています。  "
   ]
  },
  {
   "cell_type": "code",
   "execution_count": 46,
   "id": "635b9663-130c-499a-8530-7553714248e1",
   "metadata": {},
   "outputs": [
    {
     "name": "stdout",
     "output_type": "stream",
     "text": [
      "[Usd.Prim(</sampleCube>).GetAttribute('doubleSided'),\n",
      " Usd.Prim(</sampleCube>).GetAttribute('extent'),\n",
      " Usd.Prim(</sampleCube>).GetAttribute('orientation'),\n",
      " Usd.Prim(</sampleCube>).GetAttribute('primvars:displayColor'),\n",
      " Usd.Prim(</sampleCube>).GetAttribute('primvars:displayOpacity'),\n",
      " Usd.Prim(</sampleCube>).GetAttribute('purpose'),\n",
      " Usd.Prim(</sampleCube>).GetAttribute('size'),\n",
      " Usd.Prim(</sampleCube>).GetAttribute('visibility'),\n",
      " Usd.Prim(</sampleCube>).GetAttribute('xformOpOrder')]\n",
      "Cube\n"
     ]
    }
   ],
   "source": [
    "import pprint\n",
    "# Primに定義されたAttributeを取得する\n",
    "pprint.pprint(cubePrim.GetAttributes())\n",
    "# PrimTypeを取得\n",
    "print(cubePrim.GetTypeName())"
   ]
  },
  {
   "cell_type": "markdown",
   "id": "fdc849c6-dac6-48f2-ba92-407338495d2b",
   "metadata": {},
   "source": [
    "スキーマが定義されたPrimのアトリビュートを確認すると、このようになります。  \n",
    "「UsdGeomCube」スキーマを定義すれば、このスキーマに対応したAttributeが追加されているのがわかります。  \n",
    "\n",
    "同じように、ライトやカメラを作りたい場合は  "
   ]
  },
  {
   "cell_type": "code",
   "execution_count": 55,
   "id": "a00ef9b3-7a06-4c2b-8bec-6289fb60c2b0",
   "metadata": {},
   "outputs": [
    {
     "name": "stdout",
     "output_type": "stream",
     "text": [
      "UsdGeom.Camera(Usd.Prim(</sampleCamera>))\n",
      "UsdLux.DomeLight(Usd.Prim(</domeLight>))\n"
     ]
    }
   ],
   "source": [
    "camera = UsdGeom.Camera.Define(stage,'/sampleCamera')\n",
    "light = UsdLux.DomeLight.Define(stage,'/domeLight')\n",
    "print(camera)\n",
    "print(light)"
   ]
  },
  {
   "cell_type": "markdown",
   "id": "aac3d6b1-5cae-48a3-ad89-d612e77ffeb6",
   "metadata": {},
   "source": [
    "このように作成することができ、それぞれのスキーマは[UsdGeomCamera](https://graphics.pixar.com/usd/docs/api/class_usd_geom_camera.html) [UsdLuxDomeLight](https://graphics.pixar.com/usd/docs/api/class_usd_lux_dome_light.html) といった、そのスキーマクラスのオブジェクトを経由して設定をすることができます。"
   ]
  },
  {
   "cell_type": "markdown",
   "id": "e6ce39ba-36d8-48d3-83ed-cb40099fadd6",
   "metadata": {},
   "source": [
    "## 親子化\n",
    "\n",
    "Primというコンテナに対して、スキーマを定義することで    \n",
    "3Dの各ノードを作成できることがわかりました。    \n",
    "    \n",
    "このPrimは親子化することができて、これによってシーングラフを表現することができます。  "
   ]
  },
  {
   "cell_type": "code",
   "execution_count": 70,
   "id": "cda3efd1-27ce-4894-b5e6-ac16b4a3d665",
   "metadata": {},
   "outputs": [
    {
     "name": "stdout",
     "output_type": "stream",
     "text": [
      "#usda 1.0\n",
      "(\n",
      "    doc = \"\"\"Generated from Composed Stage of root layer \n",
      "\"\"\"\n",
      ")\n",
      "\n",
      "def Xform \"move\"\n",
      "{\n",
      "    def Cube \"CubeA\"\n",
      "    {\n",
      "    }\n",
      "\n",
      "    def Cube \"CubeB\"\n",
      "    {\n",
      "    }\n",
      "}\n",
      "\n",
      "\n"
     ]
    }
   ],
   "source": [
    "stage = Usd.Stage.CreateInMemory()\n",
    "\n",
    "path = Sdf.Path('/move')\n",
    "move = UsdGeom.Xform.Define(stage,path)\n",
    "UsdGeom.Cube.Define(stage,path.AppendChild('CubeA'))\n",
    "UsdGeom.Cube.Define(stage,path.AppendChild('CubeB'))\n",
    "print(stage.ExportToString())"
   ]
  },
  {
   "cell_type": "markdown",
   "id": "3a36ad33-f04a-44be-ada9-7cf1ee0cb64a",
   "metadata": {},
   "source": [
    "![](https://gyazo.com/4e6d088f43cedc9c01cc0457275e3be7.png)\n",
    "\n",
    "USDのシーングラフは、SdfPathを使用することでそのPrimのネームスペースを定義して、  \n",
    "ルートを/ として、ファイルパスと同様に /move/CubeA /move/CubeB のようになります。  \n",
    "SdfPathを使用すれば、指定のネームスペース以下のパスをつくることも可能です。\n",
    "\n",
    "### Child/Parent\n",
    "\n",
    "親子化されたPrimは、以下のようにすることで子Prim・親Primをそれぞれ取得することができます。  "
   ]
  },
  {
   "cell_type": "code",
   "execution_count": 87,
   "id": "7a1f0330-87ee-4d4c-b4fb-fe6784d4255d",
   "metadata": {},
   "outputs": [
    {
     "name": "stdout",
     "output_type": "stream",
     "text": [
      "Usd.Prim(</move/CubeA>)\n",
      "Usd.Prim(</move/CubeB>)\n",
      "Usd.Prim(</move>)\n",
      "Usd.Prim(</move>)\n",
      "Usd.Prim(</move/CubeA>)\n",
      "Usd.Prim(</move/CubeB>)\n"
     ]
    }
   ],
   "source": [
    "# 子Primを取得\n",
    "prim = move.GetPrim()\n",
    "for child in prim.GetChildren():\n",
    "    print(child)\n",
    "    \n",
    "# 親Primを取得\n",
    "childPrim = stage.GetPrimAtPath(\"/move/CubeB\")\n",
    "print(childPrim.GetParent())\n",
    "\n",
    "# 全Primを取得\n",
    "for i in stage.Traverse():\n",
    "    print(i)"
   ]
  },
  {
   "cell_type": "markdown",
   "id": "a7cad1fa-a9b6-44b8-8665-a894c27304c2",
   "metadata": {},
   "source": [
    "親子化したPrimを取得した例です。  "
   ]
  },
  {
   "cell_type": "code",
   "execution_count": 79,
   "id": "84874214-a15d-4062-94c8-ad0a57716ea1",
   "metadata": {},
   "outputs": [
    {
     "name": "stdout",
     "output_type": "stream",
     "text": [
      "#usda 1.0\n",
      "(\n",
      "    doc = \"\"\"Generated from Composed Stage of root layer \n",
      "\"\"\"\n",
      ")\n",
      "\n",
      "def Xform \"move\"\n",
      "{\n",
      "    double3 xformOp:translate = (0, 5, 0)\n",
      "    uniform token[] xformOpOrder = [\"xformOp:translate\"]\n",
      "\n",
      "    def Cube \"CubeA\"\n",
      "    {\n",
      "    }\n",
      "\n",
      "    def Cube \"CubeB\"\n",
      "    {\n",
      "    }\n",
      "}\n",
      "\n",
      "\n"
     ]
    }
   ],
   "source": [
    "prim = move.GetPrim()\n",
    "api = UsdGeom.XformCommonAPI(prim)\n",
    "api.SetTranslate((0,5,0))\n",
    "print(stage.ExportToString())"
   ]
  },
  {
   "cell_type": "markdown",
   "id": "908f2ee6-4884-4a1d-9b40-3608922f464b",
   "metadata": {},
   "source": [
    "![](https://gyazo.com/619435fdef7a1152d84769832f2da594.png)\n",
    "\n",
    "親子化したPrimをまとめて動かすこともできて、その場合はXformスキーマを使用して  \n",
    "そのPrimに対してXformを指定すればまとめて動かすことができます。  "
   ]
  },
  {
   "cell_type": "markdown",
   "id": "fe3e2c5b-4081-466d-bfcd-7ddf252a4ac3",
   "metadata": {},
   "source": [
    "## まとめ\n",
    "\n",
    "前回のStage・Layerに続いて、USDの基本になるPrimとスキーマについて見てきました。  \n",
    "Primとスキーマの関係性は若干わかりにくいので  \n",
    "stage.DefinePrim(path) してつくれるPrimと  、\n",
    "各スキーマのクラスから UsdGeom.Xform.Define()した場合の違いを理解すると  \n",
    "わかりやすいのかなとおもいます。   \n",
    "Primはコンテナ、スキーマはその属性（タイプ）、そしてそのタイプに応じてPrimにはプロパティが指定されます。  \n",
    "それによって、様々なシーングラフを表すことができるのが、USDの基本構造になります。  \n",
    "  \n",
    "というわけで、次回はこれを踏まえてプロパティ（アトリビュート/リレーション）を  \n",
    "詳しく説明していこうと思います。  \n",
    "  \n",
    "続く！  "
   ]
  },
  {
   "cell_type": "code",
   "execution_count": null,
   "id": "9e294be4-a838-41af-b2a9-6f63f7c89b68",
   "metadata": {},
   "outputs": [],
   "source": []
  }
 ],
 "metadata": {
  "kernelspec": {
   "display_name": "Python 3 (ipykernel)",
   "language": "python",
   "name": "python3"
  },
  "language_info": {
   "codemirror_mode": {
    "name": "ipython",
    "version": 3
   },
   "file_extension": ".py",
   "mimetype": "text/x-python",
   "name": "python",
   "nbconvert_exporter": "python",
   "pygments_lexer": "ipython3",
   "version": "3.7.11"
  }
 },
 "nbformat": 4,
 "nbformat_minor": 5
}
