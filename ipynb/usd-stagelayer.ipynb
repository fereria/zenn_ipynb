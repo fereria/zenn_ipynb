{
 "cells": [
  {
   "cell_type": "code",
   "execution_count": 17,
   "metadata": {},
   "outputs": [],
   "source": [
    "title = \"Pythonで始めるUSDの基本 - Stage/Layer\"\n",
    "emoji = \"😸\"\n",
    "text_type = \"idea\"\n",
    "topics = [\"Zenn\",\"USD\",\"Python\"]\n",
    "published = True"
   ]
  },
  {
   "cell_type": "markdown",
   "metadata": {},
   "source": [
    "## はじめに\n",
    "さて。\n",
    "Maya2022からデフォルトでUSDのExportができるようになりました。\n",
    "そのため、本格的にUSDの検証を始めている人も多いのではないでしょうか。\n",
    "\n",
    "そうしてUSDを触り始めると、今までにないUSD特有の概念で\n",
    "わかりにくい、どういうことかわからない、、、ということが出てくるのではないかと思います。\n",
    "そんな中から今回は、\n",
    "https://fereria.github.io/reincarnation_tech/11_Pipeline/01_USD/04_layer_stage/\n",
    "おそらく多くの人が最初混乱するであろうUSDの基本 **ステージ/レイヤー** を\n",
    "Pythonを利用しつつ詳しく解説していこうと思います。"
   ]
  },
  {
   "cell_type": "markdown",
   "metadata": {},
   "source": [
    "## レイヤー\n",
    "\n",
    "まずは、サンプルのファイルを開いてみます。"
   ]
  },
  {
   "cell_type": "code",
   "execution_count": 1,
   "metadata": {},
   "outputs": [
    {
     "name": "stdout",
     "output_type": "stream",
     "text": [
      "Sdf.Find('/work_dir/ipynb/usd/cube.usda')\n",
      "#usda 1.0\n",
      "(\n",
      "    defaultPrim = \"cube\"\n",
      ")\n",
      "\n",
      "def Cube \"cube\"\n",
      "{\n",
      "    int testValue = 10\n",
      "}\n",
      "\n",
      "\n"
     ]
    }
   ],
   "source": [
    "import os\n",
    "from pxr import Usd,Sdf\n",
    "\n",
    "USD_ROOT = os.getcwd() + \"/usd\"\n",
    "layer = Sdf.Layer.FindOrOpen(f\"{USD_ROOT}/cube.usda\")\n",
    "print(layer)\n",
    "print(layer.ExportToString())"
   ]
  },
  {
   "cell_type": "markdown",
   "metadata": {},
   "source": [
    "まず１つめが、なんのコンポジションも含まない、シンプルなキューブに、  \n",
    "testValueというアトリビュートに10が設定されているレイヤーです。  \n",
    "  \n",
    "このレイヤーを開くには、Sdf.Layer.FindOrOpen を使用します。  \n",
    "FindOrOpenを使用すると、レイヤーオブジェクトを取得することができます。  \n",
    "このレイヤーから ExportToString() を使用すると、このレイヤーに  \n",
    "記述されているシーングラフを、アスキーで見ることができます。"
   ]
  },
  {
   "cell_type": "code",
   "execution_count": 2,
   "metadata": {},
   "outputs": [
    {
     "name": "stdout",
     "output_type": "stream",
     "text": [
      "#usda 1.0\n",
      "(\n",
      "    defaultPrim = \"root\"\n",
      ")\n",
      "\n",
      "def Xform \"root\"\n",
      "{\n",
      "    def \"CubeA\" (\n",
      "        prepend references = @cube.usda@\n",
      "    )\n",
      "    {\n",
      "        int testValue = 100\n",
      "    }\n",
      "\n",
      "    def \"CubeB\" (\n",
      "        prepend references = @cube.usda@\n",
      "    )\n",
      "    {\n",
      "    }\n",
      "}\n",
      "\n",
      "\n"
     ]
    }
   ],
   "source": [
    "refLayer = Sdf.Layer.FindOrOpen(f\"{USD_ROOT}/reference.usda\")\n",
    "print(refLayer.ExportToString())"
   ]
  },
  {
   "cell_type": "markdown",
   "metadata": {},
   "source": [
    "次に、もう一つのレイヤーを開いてみます。  \n",
    "  \n",
    "このレイヤーには、「リファレンス」のコンポジションが含まれていて、  \n",
    "![](https://gyazo.com/5b1e6a112f161fcde70768434e1ddf9a.png)    \n",
    "そして、CubeAには「testValue」というアトリビュートに100という値がセットされている  \n",
    "事がわかります。\n",
    "\n",
    "ですが、このレイヤーだけでは  \n",
    "**「あくまでも現在開いているレイヤーの記述のみ」**がわかるだけで  \n",
    "「このリファレンスされている別のレイヤーと合成した結果どのようなシーングラフが出来上がるか」わかりません。\n",
    "\n",
    "このように、レイヤーとは「最終的に合成されるシーングラフの元になるもの」のことです。"
   ]
  },
  {
   "cell_type": "markdown",
   "metadata": {},
   "source": [
    "## ステージ\n",
    "  \n",
    "レイヤーを開いただけでは、あくまでもそのレイヤーに記述された情報のみが  \n",
    "表示されるだけで、最終的に合成されたシーングラフはわかりません。  \n",
    "では、その複数のレイヤーから合成された「最終的な結果」がなにかというと  \n",
    "それが「ステージ」と呼ばれるものです。"
   ]
  },
  {
   "cell_type": "code",
   "execution_count": 3,
   "metadata": {},
   "outputs": [
    {
     "name": "stdout",
     "output_type": "stream",
     "text": [
      "#usda 1.0\n",
      "(\n",
      "    defaultPrim = \"root\"\n",
      "    doc = \"\"\"Generated from Composed Stage of root layer /work_dir/ipynb/usd/reference.usda\n",
      "\"\"\"\n",
      ")\n",
      "\n",
      "def Xform \"root\"\n",
      "{\n",
      "    def Cube \"CubeA\"\n",
      "    {\n",
      "        int testValue = 100\n",
      "    }\n",
      "\n",
      "    def Cube \"CubeB\"\n",
      "    {\n",
      "        int testValue = 10\n",
      "    }\n",
      "}\n",
      "\n",
      "\n"
     ]
    }
   ],
   "source": [
    "stage = Usd.Stage.Open(refLayer)\n",
    "print(stage.ExportToString())"
   ]
  },
  {
   "cell_type": "markdown",
   "metadata": {},
   "source": [
    "先程のレイヤーを、ステージで開いてみます。  \n",
    "開いているのは reference.usda で、\n",
    "\n",
    "![](https://gyazo.com/081754363bef018a7e576919358882e4.png)  \n",
    "\n",
    "このような構造になっています。\n",
    "このステージの結果を、同じく ExportToString() してみるとどうなるかというと\n",
    "\n",
    "![](https://gyazo.com/4dfa81e881286cd97f48999efd461c57.png)\n",
    "\n",
    "結果はこのようになりました。  \n",
    "先ほどとは違い、Stage.Openで開いたレイヤー以下のレイヤーに書かれた情報(testValueの値や、Primタイプ)  \n",
    "が、全て合成された状態になっていることがわかります。  \n",
    "  \n",
    "つまり、このステージというのは  \n",
    "ルートレイヤー（この場合は reference.usda）と、このルートレイヤー以下にあるコンポジションを  \n",
    "**合成した結果できあがった結果**のことを指しています。  \n",
    "\n",
    "そのため、USDで合成された結果のシーングラフを操作したい場合はUsd.Stageを使用するし、  \n",
    "そのステージ内のあるレイヤー（usdファイル）の情報を取得したい場合は  \n",
    "Sdf.Layer を使用するようにすれば、目的の情報にたどり着くことができます。  "
   ]
  },
  {
   "cell_type": "markdown",
   "metadata": {},
   "source": [
    "## プリムとプリムスペック\n",
    "\n",
    "レイヤーとステージの関係についてなんとなく分かってきたところで  \n",
    "プリムとプリムスペックについて説明します。  \n",
    "  \n",
    "まず、プリムというのはなにかというとMayaでいうところのNodeにあたるものです。  \n",
    "上の例ならば、rootやCubeAなどがプリムにあたります。  "
   ]
  },
  {
   "cell_type": "code",
   "execution_count": 4,
   "metadata": {},
   "outputs": [
    {
     "name": "stdout",
     "output_type": "stream",
     "text": [
      "Usd.Prim(</root/CubeA>)\n"
     ]
    }
   ],
   "source": [
    "primA = stage.GetPrimAtPath('/root/CubeA')\n",
    "print(primA)"
   ]
  },
  {
   "cell_type": "markdown",
   "metadata": {},
   "source": [
    "ステージからGetPrimAtPathを使用することで、指定したパスのプリムを  \n",
    "取得することができます。  \n",
    "  \n",
    "繰り返しになりますが、  \n",
    "「ステージ」とは「複数のレイヤーの合成した結果出来上がったシーングラフ」です。  \n",
    "つまり、ステージ上にあるプリムを GetPrimAtPathで取得した場合に  \n",
    "取得できるものは「プリム」であり、  \n",
    "**いくつかのレイヤーによって合成された結果できあがったもの**になります。  \n",
    "  \n",
    "![](https://gyazo.com/73c7410706978f80cf6e006ea6103345.png)"
   ]
  },
  {
   "cell_type": "markdown",
   "metadata": {},
   "source": [
    "## スペック\n",
    "\n",
    "たとえばCubeAを例に上げると、  \n",
    "reference.usda の CubeA と cube.usda の cube という2つが合成された結果  \n",
    "CubeAが出来上がっています。  \n",
    "\n",
    "このCubeAというプリムがどのように構成されているかを分解してみると、\n",
    "\n",
    "![](https://gyazo.com/e5af205028ffac2596622035d2b784e6.png)\n",
    "\n",
    "このようになっています。"
   ]
  },
  {
   "cell_type": "code",
   "execution_count": null,
   "metadata": {},
   "outputs": [],
   "source": [
    "それぞれのレイヤーの、シーングラフに組み立てられる前の\n",
    "reference.usda の CubeA や、 cube.usda の cubeなどの要素をPrimSpecと呼びます。\n",
    "これは、合成される前の「主張＝オピニオン」です。"
   ]
  },
  {
   "cell_type": "code",
   "execution_count": null,
   "metadata": {},
   "outputs": [],
   "source": [
    "レイヤーから、Primを取得してそのPrimのAttributeを取得した例です。"
   ]
  },
  {
   "cell_type": "code",
   "execution_count": 13,
   "metadata": {},
   "outputs": [
    {
     "name": "stdout",
     "output_type": "stream",
     "text": [
      "Usd.Prim(</root/CubeA>).GetAttribute('doubleSided')\n",
      "Usd.Prim(</root/CubeA>).GetAttribute('extent')\n",
      "Usd.Prim(</root/CubeA>).GetAttribute('orientation')\n",
      "Usd.Prim(</root/CubeA>).GetAttribute('primvars:displayColor')\n",
      "Usd.Prim(</root/CubeA>).GetAttribute('primvars:displayOpacity')\n",
      "Usd.Prim(</root/CubeA>).GetAttribute('purpose')\n",
      "Usd.Prim(</root/CubeA>).GetAttribute('size')\n",
      "Usd.Prim(</root/CubeA>).GetAttribute('testValue')\n",
      "Usd.Prim(</root/CubeA>).GetAttribute('visibility')\n",
      "Usd.Prim(</root/CubeA>).GetAttribute('xformOpOrder')\n"
     ]
    }
   ],
   "source": [
    "for attr in primA.GetAttributes():\n",
    "    print(attr)"
   ]
  },
  {
   "cell_type": "markdown",
   "metadata": {},
   "source": [
    "対してPrimから取得した場合はこのようになります。\n",
    "\n",
    "![](https://gyazo.com/3d29ea4284f03aad537d9333e5b9253a.png)\n",
    "\n",
    "Primから取得した場合、コンポジションした結果から生まれるものなので  \n",
    "すべてのAttributeを取得した場合、UsdGeomCubeスキーマののアトリビュートと  \n",
    "reference.usda に記述されたアトリビュートの合成した結果のAttributeのリストが取得できます。  "
   ]
  },
  {
   "cell_type": "code",
   "execution_count": 12,
   "metadata": {},
   "outputs": [
    {
     "name": "stdout",
     "output_type": "stream",
     "text": [
      "Sdf.Find('/work_dir/ipynb/usd/reference.usda', '/root/CubeA.testValue')\n"
     ]
    }
   ],
   "source": [
    "spec = refLayer.GetPrimAtPath('/root/CubeA')\n",
    "for attr in spec.attributes:\n",
    "    # このレイヤーに書かれているAttributeのみが表示される\n",
    "    print(attr)"
   ]
  },
  {
   "cell_type": "markdown",
   "metadata": {},
   "source": [
    "対して、プリムスペックからアトリビュートを取得した場合はどうなるかというと  \n",
    "\n",
    "![](https://gyazo.com/1d2309444757ac7a1c92f31260731e67.png)\n",
    "\n",
    "あくまでもこの **レイヤーに記述された「意見（オピニオン）」** のみがリストされるので、結果このようになります。 \n",
    "\n",
    "## まとめ\n",
    "\n",
    "ここまで出た用語をまとめてみます。  \n",
    "\n",
    "レイヤーはUSDファイルのことで、シーングラフを構築するときの **「元情報」** です。  \n",
    "レイヤー単体では最終的なシーングラフはわかりません。  \n",
    "\n",
    "このレイヤーをコンポジションして組み立てられた結果できたものを **「ステージ」** と呼びます。\n",
    "\n",
    "各レイヤーごとに書かれた 「このプリムはこうあってほしい」という Primの元になるPrim を **プリムスペック** と呼びます。  \n",
    "そして、そのプリムスペックに書かれた情報のことを **オピニオン（＝意見）** と呼びます。  \n",
    "  \n",
    "レイヤーからだとなにが取得できて、ステージからだと何が取得できるのか  \n",
    "というのは、USDを調べた直後はわかりにくいですが  \n",
    "この違いを理解することで、USDをPythonやSOLARISのなどで扱う場合の理解しやすくなるのではないかと思います。  \n",
    "\n",
    "## PrimからPrimSpecを取得する（おまけ）\n",
    "\n",
    "最後に応用編。  \n",
    "PrimとPrimSpec、レイヤーとステージを理解したところで  \n",
    "PrimからそのPrimを構成するレイヤーやSpecを取得してみます。  "
   ]
  },
  {
   "cell_type": "code",
   "execution_count": 16,
   "metadata": {},
   "outputs": [
    {
     "name": "stdout",
     "output_type": "stream",
     "text": [
      "Pcp.ArcTypeRoot\n",
      "Sdf.Find('/work_dir/ipynb/usd/reference.usda', '/root/CubeA')\n",
      "Sdf.Find('/work_dir/ipynb/usd/reference.usda', '/root/CubeA.testValue')\n",
      "Pcp.ArcTypeReference\n",
      "Sdf.Find('/work_dir/ipynb/usd/cube.usda', '/cube')\n",
      "Sdf.Find('/work_dir/ipynb/usd/cube.usda', '/cube.testValue')\n"
     ]
    }
   ],
   "source": [
    "query =Usd.PrimCompositionQuery(primA)\n",
    "\n",
    "# Compositionを取得する\n",
    "for comp in query.GetCompositionArcs():\n",
    "    print(comp.GetArcType())\n",
    "    node = comp.GetTargetNode()\n",
    "    # Target=されているNode、Introducing=しているNodeを取得できる\n",
    "    # NodeRefとは、シーンディスクリプションを合成するためのノード（コンポジション）を取得できる\n",
    "    if node.IsRootNode():\n",
    "        layer = node.layerStack.layers[1]\n",
    "        # Rootの場合はアノニマスレイヤーがLayerStackに含まれているので\n",
    "    else:\n",
    "        layer = node.layerStack.layers[0]\n",
    "    primSpec = layer.GetPrimAtPath(node.path)\n",
    "    print(primSpec)\n",
    "    # AttributeSpec\n",
    "    for i in primSpec.attributes:\n",
    "        print(i)"
   ]
  },
  {
   "cell_type": "markdown",
   "metadata": {},
   "source": [
    "取得するには PrimCompositionQueryを使用します。  \n",
    "これは、関数名のとおり「あるPrimのコンポジションをすべて列挙」することができます。  \n",
    "コンポジション関係はPCPというモジュールを使用するのですが、  \n",
    "そのあたりは詳細は [PCPでコンポジションアークの構造を解析・編集対象を取得する](https://fereria.github.io/reincarnation_tech/11_Pipeline/30_USD_Programming/01_Python/04_pcp_compositionArc/)で  \n",
    "詳しく書いてありますのでそちらを参照。"
   ]
  }
 ],
 "metadata": {
  "interpreter": {
   "hash": "90ad37beec7e816fa6224594e71540722bf31854ba11f3943a77de50e81485ba"
  },
  "kernelspec": {
   "display_name": "Python 3 (ipykernel)",
   "language": "python",
   "name": "python3"
  },
  "language_info": {
   "codemirror_mode": {
    "name": "ipython",
    "version": 3
   },
   "file_extension": ".py",
   "mimetype": "text/x-python",
   "name": "python",
   "nbconvert_exporter": "python",
   "pygments_lexer": "ipython3",
   "version": "3.7.11"
  }
 },
 "nbformat": 4,
 "nbformat_minor": 4
}
