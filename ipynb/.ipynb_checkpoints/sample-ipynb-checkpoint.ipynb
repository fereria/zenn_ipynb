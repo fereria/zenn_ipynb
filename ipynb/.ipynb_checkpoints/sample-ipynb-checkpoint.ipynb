{
 "cells": [
  {
   "cell_type": "code",
   "execution_count": null,
   "metadata": {},
   "outputs": [],
   "source": [
    "title = \"ipynbでZennの記事を書こう\"\n",
    "emoji = \"😸\"\n",
    "text_type = \"idea\"\n",
    "topics = [\"Zenn\",\"JupyterNotebook\"]\n",
    "published = False"
   ]
  },
  {
   "cell_type": "markdown",
   "metadata": {},
   "source": [
    "Zennで記事を書くときに、Pythonのコードを使う場合は、  \n",
    "普通に記事を書くよりも、Notebookをそのまま公開したいときなんかもある...と思ったので、  \n",
    "GithubActionの勉強を兼ねて、ipynbをPushすることで、Zennの記事を投稿できるようにしてみる。  \n",
    "  \n",
    "以下のコードは、以前書いたもの。  "
   ]
  },
  {
   "cell_type": "code",
   "execution_count": 2,
   "metadata": {},
   "outputs": [],
   "source": [
    "from pxr import Usd,Sdf"
   ]
  },
  {
   "cell_type": "code",
   "execution_count": 3,
   "metadata": {},
   "outputs": [],
   "source": [
    "ROOT_PATH = \"d:/work/py37/USD/clip/\""
   ]
  },
  {
   "cell_type": "code",
   "execution_count": 6,
   "metadata": {},
   "outputs": [
    {
     "name": "stdout",
     "output_type": "stream",
     "text": [
      "#usda 1.0\n",
      "\n",
      "def \"ModelA\"\n",
      "{\n",
      "    double a.timeSamples = {\n",
      "        1: 1,\n",
      "    }\n",
      "    double b = 10\n",
      "}\n",
      "\n",
      "\n",
      "#usda 1.0\n",
      "\n",
      "def \"ModelA\"\n",
      "{\n",
      "    double a.timeSamples = {\n",
      "        2: 100,\n",
      "    }\n",
      "}\n",
      "\n",
      "\n"
     ]
    }
   ],
   "source": [
    "# Clipを作る\n",
    "a = Sdf.Layer.FindOrOpen(ROOT_PATH + 'A/clip.1.usda')\n",
    "b = Sdf.Layer.FindOrOpen(ROOT_PATH + 'A/clip.2.usda')\n",
    "print(a.ExportToString())\n",
    "print(b.ExportToString())"
   ]
  },
  {
   "cell_type": "code",
   "execution_count": 7,
   "metadata": {},
   "outputs": [],
   "source": [
    "# ClipのレイヤーからManifestを作る。\n",
    "# Manifestは、ClipsAPIを使用するときに、クリップでアクセスアトリビュートの\n",
    "# インデックスを作るためのファイル。\n",
    "# ClipのうちTimeSampleを持つアトリビュートの定義を作る。\n",
    "manifest = Usd.ClipsAPI.GenerateClipManifestFromLayers([a,b],'/Model')"
   ]
  },
  {
   "cell_type": "code",
   "execution_count": 8,
   "metadata": {},
   "outputs": [
    {
     "name": "stdout",
     "output_type": "stream",
     "text": [
      "#usda 1.0\n",
      "\n",
      "\n"
     ]
    },
    {
     "data": {
      "text/plain": [
       "True"
      ]
     },
     "execution_count": 8,
     "metadata": {},
     "output_type": "execute_result"
    }
   ],
   "source": [
    "# 結果は、アノニマスレイヤーとして取得できるので\n",
    "# このアノニマスレイヤーを保存して使用する。\n",
    "print(manifest.ExportToString())\n",
    "manifest.Export(ROOT_PATH + \"/manifest_sample.usda\")"
   ]
  },
  {
   "cell_type": "markdown",
   "metadata": {},
   "source": [
    "実行した結果は、GithubActionsでMarkdownに変換＆GitへPushされる。\n",
    "Push先を、Zennの対象フォルダにすることで、NotebookをZennの記事として投稿できる。\n",
    "\n",
    "公開用のブランチを分けることで、mainでPullしないと衝突する..みたいなことは防ぐ。"
   ]
  }
 ],
 "metadata": {
  "kernelspec": {
   "display_name": "Python 3",
   "language": "python",
   "name": "python3"
  },
  "language_info": {
   "codemirror_mode": {
    "name": "ipython",
    "version": 3
   },
   "file_extension": ".py",
   "mimetype": "text/x-python",
   "name": "python",
   "nbconvert_exporter": "python",
   "pygments_lexer": "ipython3",
   "version": "3.7.10"
  },
  "metadata": {
   "interpreter": {
    "hash": "63fd5069d213b44bf678585dea6b12cceca9941eaf7f819626cde1f2670de90d"
   }
  }
 },
 "nbformat": 4,
 "nbformat_minor": 4
}
